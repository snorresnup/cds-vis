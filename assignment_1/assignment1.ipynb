{
 "cells": [
  {
   "cell_type": "markdown",
   "metadata": {},
   "source": [
    "# Assignment 1"
   ]
  },
  {
   "cell_type": "markdown",
   "metadata": {},
   "source": [
    "Define a particular image that you want to work with\n",
    "For that image\n",
    "\n",
    "    Extract the colour histogram using OpenCV\n",
    "\n",
    "Extract colour histograms for all of the *other images in the data\n",
    "Compare the histogram of our chosen image to all of the other histograms\n",
    "\n",
    "    For this, use the cv2.compareHist() function with the cv2.HISTCMP_CHISQR metric\n",
    "\n",
    "Find the five images which are most simlar to the target image\n",
    "\n",
    "    Save a CSV file to the folder called out, showing the five most similar images and the distance metric:"
   ]
  },
  {
   "cell_type": "code",
   "execution_count": 2,
   "metadata": {},
   "outputs": [],
   "source": [
    "import os\n",
    "# adding python path\n",
    "import sys\n",
    "sys.path.append(\"..\")\n",
    "# openCV\n",
    "import cv2\n",
    "# numpy\n",
    "import numpy as np\n",
    "# class util functions\n",
    "from utils.imutils import jimshow as show\n",
    "from utils.imutils import jimshow_channel as show_channel\n",
    "# plotting \n",
    "import matplotlib.pyplot as plt\n",
    "import pandas as pd\n",
    "import random as rd"
   ]
  },
  {
   "cell_type": "code",
   "execution_count": 3,
   "metadata": {},
   "outputs": [],
   "source": [
    "def gen_hists(image):\n",
    "    # load element\n",
    "    ref_img = cv2.imread(image)\n",
    "    # generate histogram\n",
    "    hist = cv2.calcHist([ref_img], [0, 1, 2], None, [255, 255, 255], [0,256, 0,256, 0,256])\n",
    "    # normalize histogram\n",
    "    norm_hist = cv2.normalize(hist, hist, 0, 1.0, cv2.NORM_MINMAX)\n",
    "    return(norm_hist)\n",
    "\n"
   ]
  },
  {
   "cell_type": "code",
   "execution_count": 4,
   "metadata": {},
   "outputs": [],
   "source": [
    "filepath_ref = os.path.join(\"..\",\"..\",\"..\", \"cds-vis-data\", \"flowers\", \"image_0001.jpg\")\n",
    "filepath = os.path.join(\"..\",\"..\",\"..\", \"cds-vis-data\", \"flowers\")"
   ]
  },
  {
   "cell_type": "code",
   "execution_count": 5,
   "metadata": {},
   "outputs": [],
   "source": [
    "hist_ref = gen_hists(filepath_ref)\n",
    "\n",
    "all = sorted(os.listdir(filepath))\n",
    "\n",
    "results = []\n",
    "\n",
    "for img in all:\n",
    "    input_path = os.path.join(filepath, img)\n",
    "    hist = gen_hists(input_path)\n",
    "    distance = round(cv2.compareHist(hist_ref, hist, cv2.HISTCMP_CHISQR), 2)\n",
    "    results.append((img, distance))\n",
    "    df = pd.DataFrame(results, columns=[\"Filename\", \"Distance\"]).sort_values(by=[\"Distance\"])"
   ]
  },
  {
   "cell_type": "code",
   "execution_count": 6,
   "metadata": {},
   "outputs": [
    {
     "data": {
      "text/html": [
       "<div>\n",
       "<style scoped>\n",
       "    .dataframe tbody tr th:only-of-type {\n",
       "        vertical-align: middle;\n",
       "    }\n",
       "\n",
       "    .dataframe tbody tr th {\n",
       "        vertical-align: top;\n",
       "    }\n",
       "\n",
       "    .dataframe thead th {\n",
       "        text-align: right;\n",
       "    }\n",
       "</style>\n",
       "<table border=\"1\" class=\"dataframe\">\n",
       "  <thead>\n",
       "    <tr style=\"text-align: right;\">\n",
       "      <th></th>\n",
       "      <th>Filename</th>\n",
       "      <th>Distance</th>\n",
       "    </tr>\n",
       "  </thead>\n",
       "  <tbody>\n",
       "    <tr>\n",
       "      <th>0</th>\n",
       "      <td>image_0001.jpg</td>\n",
       "      <td>0.00</td>\n",
       "    </tr>\n",
       "    <tr>\n",
       "      <th>927</th>\n",
       "      <td>image_0928.jpg</td>\n",
       "      <td>178.12</td>\n",
       "    </tr>\n",
       "    <tr>\n",
       "      <th>875</th>\n",
       "      <td>image_0876.jpg</td>\n",
       "      <td>188.55</td>\n",
       "    </tr>\n",
       "    <tr>\n",
       "      <th>772</th>\n",
       "      <td>image_0773.jpg</td>\n",
       "      <td>190.08</td>\n",
       "    </tr>\n",
       "    <tr>\n",
       "      <th>141</th>\n",
       "      <td>image_0142.jpg</td>\n",
       "      <td>190.21</td>\n",
       "    </tr>\n",
       "  </tbody>\n",
       "</table>\n",
       "</div>"
      ],
      "text/plain": [
       "           Filename  Distance\n",
       "0    image_0001.jpg      0.00\n",
       "927  image_0928.jpg    178.12\n",
       "875  image_0876.jpg    188.55\n",
       "772  image_0773.jpg    190.08\n",
       "141  image_0142.jpg    190.21"
      ]
     },
     "execution_count": 6,
     "metadata": {},
     "output_type": "execute_result"
    }
   ],
   "source": [
    "df_5 = df.head()\n",
    "df_5"
   ]
  },
  {
   "cell_type": "code",
   "execution_count": 7,
   "metadata": {},
   "outputs": [],
   "source": [
    "output_path = os.path.join(\"output\")\n",
    "df_5.to_csv(os.path.join(output_path, \"distance.csv\"), index = False)"
   ]
  }
 ],
 "metadata": {
  "kernelspec": {
   "display_name": "Python 3",
   "language": "python",
   "name": "python3"
  },
  "language_info": {
   "codemirror_mode": {
    "name": "ipython",
    "version": 3
   },
   "file_extension": ".py",
   "mimetype": "text/x-python",
   "name": "python",
   "nbconvert_exporter": "python",
   "pygments_lexer": "ipython3",
   "version": "3.10.12"
  }
 },
 "nbformat": 4,
 "nbformat_minor": 2
}
